{
 "cells": [
  {
   "cell_type": "markdown",
   "metadata": {},
   "source": [
    "# Import Libraries"
   ]
  },
  {
   "cell_type": "code",
   "execution_count": 1,
   "metadata": {},
   "outputs": [],
   "source": [
    "import os\n",
    "import cv2\n",
    "import numpy as np\n",
    "import matplotlib as plt"
   ]
  },
  {
   "cell_type": "markdown",
   "metadata": {},
   "source": [
    "# Load Dataset"
   ]
  },
  {
   "cell_type": "code",
   "execution_count": 19,
   "metadata": {},
   "outputs": [
    {
     "name": "stdout",
     "output_type": "stream",
     "text": [
      "label's length is 70\n",
      "image's length is 70\n"
     ]
    }
   ],
   "source": [
    "def load_images(img_path):\n",
    "    img = cv2.imread(img_path)\n",
    "    if img is None:\n",
    "        print(\"error load image\")\n",
    "        return None, None\n",
    "    gray = cv2.cvtColor(img, cv2.COLOR_BGR2GRAY)\n",
    "    return img, gray\n",
    "\n",
    "dataset_path = 'dataset/images'\n",
    "images = []\n",
    "labels = []\n",
    "\n",
    "for root, dirs, files in os.walk(dataset_path):\n",
    "    if len(files) == 0:\n",
    "        continue\n",
    "    for f in files:\n",
    "        _,image = load_images(os.path.join(root, f))\n",
    "        if image is None:\n",
    "            continue\n",
    "        images.append(image)\n",
    "        labels.append(root.split('/')[-1])\n",
    "\n",
    "# check data length\n",
    "print(f\"label's length is {len(labels)}\")\n",
    "print(f\"image's length is {len(images)}\")\n"
   ]
  },
  {
   "cell_type": "markdown",
   "metadata": {},
   "source": [
    "# Face Detection"
   ]
  },
  {
   "cell_type": "code",
   "execution_count": 23,
   "metadata": {},
   "outputs": [],
   "source": [
    "# define model\n",
    "face_cascade = cv2.CascadeClassifier(cv2.data.haarcascades + 'haarcascade_frontalface_default.xml')\n",
    "\n",
    "# detect face funct\n",
    "def detect_faces(img, scale_factor=1.1, min_neighbors = 5, min_size=(30, 30)):\n",
    "    faces = face_cascade.detectMultiScale(\n",
    "        img,\n",
    "        scaleFactor = scale_factor,\n",
    "        minNeighbors = min_neighbors,\n",
    "        minSize = min_size,\n",
    "    )\n",
    "    return faces\n",
    "\n",
    "# crop face funt\n",
    "def crop_faces(img, faces, return_all = False):\n",
    "    cropped_faces = []\n",
    "    selected_faces = []\n",
    "    if len(faces)>0:\n",
    "        if return_all:\n",
    "            for x, y, w, h in faces:\n",
    "                selected_faces.append((x, y, w, h))\n",
    "                cropped_faces.append(img[y:y+h, x:x+w])\n",
    "        else:\n",
    "            x, y, w, h = max(faces, key=lambda rect: rect[2]*rect[3])\n",
    "            selected_faces.append((x, y, w, h))\n",
    "            cropped_faces.append(img[y:y+h, x:x+w])\n",
    "    return cropped_faces, selected_faces"
   ]
  },
  {
   "cell_type": "markdown",
   "metadata": {},
   "source": [
    "# Face Recognition"
   ]
  },
  {
   "cell_type": "code",
   "execution_count": 26,
   "metadata": {},
   "outputs": [],
   "source": [
    "# resize and Flatten\n",
    "face_size = (128, 128)\n",
    "\n",
    "def resize_and_flatten(face):\n",
    "    face_resized = cv2.resize(face, face_size)\n",
    "    face_flattened = face_resized.flatten()\n",
    "    return face_flattened"
   ]
  },
  {
   "cell_type": "markdown",
   "metadata": {},
   "source": [
    "## Prepare Training Testing Data"
   ]
  },
  {
   "cell_type": "code",
   "execution_count": 31,
   "metadata": {},
   "outputs": [],
   "source": [
    "# make dataset\n",
    "x = []\n",
    "y = []\n",
    "\n",
    "for image, label in zip(images, labels):\n",
    "    faces = detect_faces(image)\n",
    "    cropped_faces, _ = crop_faces(image, faces)\n",
    "    if len(cropped_faces) > 0:\n",
    "        face_flattened = resize_and_flatten(cropped_faces[0])\n",
    "        x.append(face_flattened)\n",
    "        y.append(label)\n",
    "\n",
    "x = np.array(x)\n",
    "y = np.array(y)"
   ]
  },
  {
   "cell_type": "code",
   "execution_count": 32,
   "metadata": {},
   "outputs": [],
   "source": [
    "# split train and test\n",
    "from sklearn.model_selection import train_test_split\n",
    "\n",
    "x_train, x_test, y_train, y_test = train_test_split(x, y, test_size=0.3, random_state = 42, stratify=y)"
   ]
  },
  {
   "cell_type": "code",
   "execution_count": 34,
   "metadata": {},
   "outputs": [],
   "source": [
    "# preprocess image using mean centering \n",
    "from sklearn.base import BaseEstimator, TransformerMixin\n",
    "\n",
    "class MeanCentering(BaseEstimator, TransformerMixin):\n",
    "    def fit(self, x, y=None):\n",
    "        self.mean_face = np.mean(x, axis=0)\n",
    "        return self\n",
    "    \n",
    "    def transform(self, x):\n",
    "        return x-self.mean_face"
   ]
  },
  {
   "cell_type": "code",
   "execution_count": null,
   "metadata": {},
   "outputs": [],
   "source": []
  }
 ],
 "metadata": {
  "kernelspec": {
   "display_name": ".cv",
   "language": "python",
   "name": "python3"
  },
  "language_info": {
   "codemirror_mode": {
    "name": "ipython",
    "version": 3
   },
   "file_extension": ".py",
   "mimetype": "text/x-python",
   "name": "python",
   "nbconvert_exporter": "python",
   "pygments_lexer": "ipython3",
   "version": "3.8.10"
  }
 },
 "nbformat": 4,
 "nbformat_minor": 2
}
